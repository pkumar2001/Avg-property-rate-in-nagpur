{
 "cells": [
  {
   "cell_type": "markdown",
   "metadata": {},
   "source": [
    "# Assignment\n",
    "\n",
    "**The objetive of this assignment is to predict top 5 localities in Nagpur where Average Property Rate per sq yard is highest.**\n",
    "\n",
    "To accomplish this assignment data is collected from various property websites of Nagpur. I have collected data from mainly 3 websites.They are following:\n",
    "1. http://property.sulekha.com/nagpur-real-estate-price-trend\n",
    "2. https://www.makaan.com/price-trends/property-rates-for-buy-in-nagpur?page=3\n",
    "3. https://www.99acres.com/property-rates-and-price-trends-in-nagpur\n",
    "\n",
    "Though I have tried my best but it is very diffiult to gain data for each localities from all websites. So there are many blank columns in data.\n"
   ]
  },
  {
   "cell_type": "code",
   "execution_count": 1,
   "metadata": {},
   "outputs": [],
   "source": [
    "import pandas as pd\n",
    "import numpy as np\n",
    "from sklearn.ensemble import RandomForestRegressor,GradientBoostingRegressor\n",
    "from sklearn.metrics import mean_squared_error"
   ]
  },
  {
   "cell_type": "code",
   "execution_count": 2,
   "metadata": {},
   "outputs": [],
   "source": [
    "df = pd.read_csv('data.csv')"
   ]
  },
  {
   "cell_type": "code",
   "execution_count": 3,
   "metadata": {},
   "outputs": [
    {
     "data": {
      "text/html": [
       "<div>\n",
       "<style scoped>\n",
       "    .dataframe tbody tr th:only-of-type {\n",
       "        vertical-align: middle;\n",
       "    }\n",
       "\n",
       "    .dataframe tbody tr th {\n",
       "        vertical-align: top;\n",
       "    }\n",
       "\n",
       "    .dataframe thead th {\n",
       "        text-align: right;\n",
       "    }\n",
       "</style>\n",
       "<table border=\"1\" class=\"dataframe\">\n",
       "  <thead>\n",
       "    <tr style=\"text-align: right;\">\n",
       "      <th></th>\n",
       "      <th>Locality</th>\n",
       "      <th>Apartment and Flats_1</th>\n",
       "      <th>Individual Houses_1</th>\n",
       "      <th>Plot_1</th>\n",
       "      <th>Apartment and Flat_2</th>\n",
       "      <th>Individual House_2</th>\n",
       "      <th>Plot_2</th>\n",
       "      <th>Plot_3</th>\n",
       "      <th>Aparrtment and Flats_3</th>\n",
       "    </tr>\n",
       "  </thead>\n",
       "  <tbody>\n",
       "    <tr>\n",
       "      <th>0</th>\n",
       "      <td>Ambazari</td>\n",
       "      <td>4009.0</td>\n",
       "      <td>NaN</td>\n",
       "      <td>NaN</td>\n",
       "      <td>10119.0</td>\n",
       "      <td>10070.0</td>\n",
       "      <td>7883.0</td>\n",
       "      <td>NaN</td>\n",
       "      <td>NaN</td>\n",
       "    </tr>\n",
       "    <tr>\n",
       "      <th>1</th>\n",
       "      <td>Amravati Road</td>\n",
       "      <td>3332.0</td>\n",
       "      <td>1250.0</td>\n",
       "      <td>275.0</td>\n",
       "      <td>6216.0</td>\n",
       "      <td>5077.0</td>\n",
       "      <td>249.0</td>\n",
       "      <td>NaN</td>\n",
       "      <td>NaN</td>\n",
       "    </tr>\n",
       "    <tr>\n",
       "      <th>2</th>\n",
       "      <td>Amravati</td>\n",
       "      <td>3435.0</td>\n",
       "      <td>NaN</td>\n",
       "      <td>NaN</td>\n",
       "      <td>NaN</td>\n",
       "      <td>NaN</td>\n",
       "      <td>NaN</td>\n",
       "      <td>NaN</td>\n",
       "      <td>NaN</td>\n",
       "    </tr>\n",
       "    <tr>\n",
       "      <th>3</th>\n",
       "      <td>Anjani</td>\n",
       "      <td>NaN</td>\n",
       "      <td>NaN</td>\n",
       "      <td>7000.0</td>\n",
       "      <td>NaN</td>\n",
       "      <td>NaN</td>\n",
       "      <td>NaN</td>\n",
       "      <td>NaN</td>\n",
       "      <td>NaN</td>\n",
       "    </tr>\n",
       "    <tr>\n",
       "      <th>4</th>\n",
       "      <td>Bajaj Nagar</td>\n",
       "      <td>6098.0</td>\n",
       "      <td>NaN</td>\n",
       "      <td>8000.0</td>\n",
       "      <td>6958.0</td>\n",
       "      <td>NaN</td>\n",
       "      <td>18000.0</td>\n",
       "      <td>NaN</td>\n",
       "      <td>NaN</td>\n",
       "    </tr>\n",
       "  </tbody>\n",
       "</table>\n",
       "</div>"
      ],
      "text/plain": [
       "        Locality  Apartment and Flats_1  Individual Houses_1  Plot_1  \\\n",
       "0       Ambazari                 4009.0                  NaN     NaN   \n",
       "1  Amravati Road                 3332.0               1250.0   275.0   \n",
       "2      Amravati                  3435.0                  NaN     NaN   \n",
       "3         Anjani                    NaN                  NaN  7000.0   \n",
       "4    Bajaj Nagar                 6098.0                  NaN  8000.0   \n",
       "\n",
       "   Apartment and Flat_2  Individual House_2   Plot_2  Plot_3  \\\n",
       "0               10119.0             10070.0   7883.0     NaN   \n",
       "1                6216.0              5077.0    249.0     NaN   \n",
       "2                   NaN                 NaN      NaN     NaN   \n",
       "3                   NaN                 NaN      NaN     NaN   \n",
       "4                6958.0                 NaN  18000.0     NaN   \n",
       "\n",
       "   Aparrtment and Flats_3  \n",
       "0                     NaN  \n",
       "1                     NaN  \n",
       "2                     NaN  \n",
       "3                     NaN  \n",
       "4                     NaN  "
      ]
     },
     "execution_count": 3,
     "metadata": {},
     "output_type": "execute_result"
    }
   ],
   "source": [
    "df.head()"
   ]
  },
  {
   "cell_type": "code",
   "execution_count": 4,
   "metadata": {},
   "outputs": [
    {
     "data": {
      "text/plain": [
       "Locality                   object\n",
       "Apartment and Flats_1     float64\n",
       "Individual Houses_1       float64\n",
       "Plot_1                    float64\n",
       "Apartment and Flat_2      float64\n",
       "Individual House_2        float64\n",
       "Plot_2                    float64\n",
       "Plot_3                    float64\n",
       "Aparrtment and Flats_3    float64\n",
       "dtype: object"
      ]
     },
     "execution_count": 4,
     "metadata": {},
     "output_type": "execute_result"
    }
   ],
   "source": [
    "df.dtypes"
   ]
  },
  {
   "cell_type": "code",
   "execution_count": 5,
   "metadata": {},
   "outputs": [],
   "source": [
    "df = df.drop(df.columns[df.columns.str.contains('unnamed',case = False)],axis = 1)"
   ]
  },
  {
   "cell_type": "markdown",
   "metadata": {},
   "source": [
    "**Creating some new variables(Variable Featuring) :**"
   ]
  },
  {
   "cell_type": "code",
   "execution_count": 6,
   "metadata": {},
   "outputs": [],
   "source": [
    "df['Apartment and Flat avg'] = df[['Apartment and Flats_1','Apartment and Flat_2','Aparrtment and Flats_3']].mean(axis=1)\n",
    "df['Individual House avg'] = df[['Individual Houses_1','Individual House_2']].mean(axis=1)\n",
    "df['Plot avg'] = df[['Plot_1','Plot_2','Plot_3']].mean(axis=1)\n",
    "df['Avg rate per sq ft'] = df.mean(axis=1)"
   ]
  },
  {
   "cell_type": "markdown",
   "metadata": {},
   "source": [
    "**Data cleaning on featured variables :**"
   ]
  },
  {
   "cell_type": "code",
   "execution_count": 7,
   "metadata": {},
   "outputs": [],
   "source": [
    "df['Apartment and Flat avg'] = df['Apartment and Flat avg'].fillna(df['Apartment and Flat avg'].mean())\n",
    "df['Individual House avg'] = df['Individual House avg'].fillna(df['Individual House avg'].mean())\n",
    "df['Plot avg'] = df['Plot avg'].fillna(df['Plot avg'].mean())\n",
    "df['Avg rate per sq ft'] = df['Avg rate per sq ft'].fillna(df['Avg rate per sq ft'].mean())"
   ]
  },
  {
   "cell_type": "code",
   "execution_count": 8,
   "metadata": {},
   "outputs": [],
   "source": [
    "#features that are used in model builiding\n",
    "features = ['Apartment and Flat avg','Individual House avg','Plot avg']"
   ]
  },
  {
   "cell_type": "code",
   "execution_count": 10,
   "metadata": {},
   "outputs": [],
   "source": [
    "#defining a function to find the best model\n",
    "def prediction_function(train, test):\n",
    "    estimators = [50, 75, 80, 100, 125, 150, 200, 250, 500]\n",
    "    final = []\n",
    "    \n",
    "    for e in estimators:\n",
    "        rf = RandomForestRegressor(random_state = 1, n_estimators = e, min_samples_split = 8, min_samples_leaf = 4)\n",
    "        gbr = GradientBoostingRegressor(random_state = 1, n_estimators = e, min_samples_split = 8, \n",
    "                                        min_samples_leaf = 4, learning_rate = 0.1)\n",
    "\n",
    "        rf.fit(train[features], train['Avg rate per sq ft'])\n",
    "        predictions_rf = rf.predict(test[features])\n",
    "        predictions_rf = predictions_rf.astype(int)\n",
    "\n",
    "        gbr.fit(train[features], train['Avg rate per sq ft'])\n",
    "        predictions_gbr = gbr.predict(test[features])\n",
    "        predictions_gbr = predictions_gbr.astype(int)\n",
    "\n",
    "        \n",
    "\n",
    "        mse_rf = (np.sqrt(mean_squared_error(test['Avg rate per sq ft'], predictions_rf)), 'RF')\n",
    "        mse_gbr = (np.sqrt(mean_squared_error(test['Avg rate per sq ft'], predictions_gbr)), 'GBR')\n",
    "        \n",
    "        \n",
    "        print(mse_rf , mse_gbr)\n",
    "        error_min = min(mse_rf,mse_gbr)\n",
    "#         print(error_min)\n",
    "        final.append((error_min, e))\n",
    "    \n",
    "    print(final)\n",
    "    min_final = min(final)\n",
    "    print(\"Minimum MSE, regressor to use and number of estimators: \"+str(min_final))\n",
    "    return list(min_final)"
   ]
  },
  {
   "cell_type": "code",
   "execution_count": 11,
   "metadata": {},
   "outputs": [],
   "source": [
    "#spliting data into test and train data\n",
    "train = df.iloc[ :75, :]\n",
    "test = df.iloc[75: , :]"
   ]
  },
  {
   "cell_type": "code",
   "execution_count": 12,
   "metadata": {},
   "outputs": [
    {
     "name": "stdout",
     "output_type": "stream",
     "text": [
      "(3440.8440311551253, 'RF') (3058.0218719158615, 'GBR')\n",
      "(3471.8281132732604, 'RF') (3013.4486351117816, 'GBR')\n",
      "(3460.2520173724565, 'RF') (3009.3706760052546, 'GBR')\n",
      "(3457.8267450761878, 'RF') (3000.0756505956488, 'GBR')\n",
      "(3468.4586456030647, 'RF') (2986.7671663199453, 'GBR')\n",
      "(3465.101869894952, 'RF') (2975.805122934386, 'GBR')\n",
      "(3464.2415656071, 'RF') (2961.295541153973, 'GBR')\n",
      "(3471.0136122662266, 'RF') (2955.7380636040757, 'GBR')\n",
      "(3466.2002415992406, 'RF') (2944.3021124050324, 'GBR')\n",
      "[((3058.0218719158615, 'GBR'), 50), ((3013.4486351117816, 'GBR'), 75), ((3009.3706760052546, 'GBR'), 80), ((3000.0756505956488, 'GBR'), 100), ((2986.7671663199453, 'GBR'), 125), ((2975.805122934386, 'GBR'), 150), ((2961.295541153973, 'GBR'), 200), ((2955.7380636040757, 'GBR'), 250), ((2944.3021124050324, 'GBR'), 500)]\n",
      "Minimum MSE, regressor to use and number of estimators: ((2944.3021124050324, 'GBR'), 500)\n"
     ]
    }
   ],
   "source": [
    "min_final = prediction_function(train, test)"
   ]
  },
  {
   "cell_type": "code",
   "execution_count": 13,
   "metadata": {},
   "outputs": [],
   "source": [
    "e = min_final[1]\n",
    "regressor = min_final[0][1]"
   ]
  },
  {
   "cell_type": "code",
   "execution_count": 14,
   "metadata": {},
   "outputs": [],
   "source": [
    "#model to be used\n",
    "if(regressor == 'RF'):\n",
    "    reg = RandomForestRegressor(random_state = 1, n_estimators = e, min_samples_split = 8, min_samples_leaf = 4)\n",
    "elif(regressor == 'GBR'):\n",
    "    reg = GradientBoostingRegressor(random_state = 1, n_estimators = e, min_samples_split = 8, min_samples_leaf = 4, learning_rate = 0.1)\n",
    "else:\n",
    "    rdg = Ridge(alpha = 1,random_state = 1)\n",
    "\n",
    "reg.fit(train[features],train['Avg rate per sq ft'])\n",
    "predictions = reg.predict(df[features])\n",
    "predictions = predictions.astype(int)"
   ]
  },
  {
   "cell_type": "code",
   "execution_count": 15,
   "metadata": {},
   "outputs": [],
   "source": [
    "result = pd.DataFrame({'Locality':df['Locality'], 'Avg rate per sq ft': predictions})"
   ]
  },
  {
   "cell_type": "code",
   "execution_count": 16,
   "metadata": {},
   "outputs": [],
   "source": [
    "result.to_csv('Result.csv')"
   ]
  },
  {
   "cell_type": "code",
   "execution_count": 17,
   "metadata": {},
   "outputs": [],
   "source": [
    "result = result.sort_values(by='Avg rate per sq ft',ascending=False)"
   ]
  },
  {
   "cell_type": "code",
   "execution_count": 18,
   "metadata": {},
   "outputs": [
    {
     "name": "stdout",
     "output_type": "stream",
     "text": [
      "Top 5 localities on the basis of Avg rate per sq feet are:\n",
      "    Avg rate per sq ft          Locality\n",
      "4                 9723       Bajaj Nagar\n",
      "12                8350  Chatrapati Nagar\n",
      "19                8189        Dharampeth\n",
      "0                 8117          Ambazari\n",
      "87                7914         Somalwada\n"
     ]
    }
   ],
   "source": [
    "print(\"Top 5 localities on the basis of Avg rate per sq feet are:\")\n",
    "print(result.iloc[:5,:])"
   ]
  },
  {
   "cell_type": "markdown",
   "metadata": {},
   "source": [
    "**The accuracy of model can be improved we have more data to train and test model.**\n",
    "\n",
    "### Thank You"
   ]
  },
  {
   "cell_type": "code",
   "execution_count": null,
   "metadata": {},
   "outputs": [],
   "source": []
  }
 ],
 "metadata": {
  "kernelspec": {
   "display_name": "Python 3",
   "language": "python",
   "name": "python3"
  },
  "language_info": {
   "codemirror_mode": {
    "name": "ipython",
    "version": 3
   },
   "file_extension": ".py",
   "mimetype": "text/x-python",
   "name": "python",
   "nbconvert_exporter": "python",
   "pygments_lexer": "ipython3",
   "version": "3.6.4"
  }
 },
 "nbformat": 4,
 "nbformat_minor": 2
}
